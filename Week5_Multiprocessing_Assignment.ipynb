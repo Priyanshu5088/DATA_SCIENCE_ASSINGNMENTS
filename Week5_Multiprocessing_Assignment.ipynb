{
 "cells": [
  {
   "cell_type": "markdown",
   "metadata": {},
   "source": [
    "Q1. What is multiprocessing in python? Why is it useful? \n",
    "Ans: Multiprocessing in Python refers to the ability of the Python programming language to execute multiple processes concurrently, allowing for better utilization of multi-core CPUs and improved performance for CPU-bound tasks. It's a way to achieve parallelism, where multiple tasks are executed simultaneously to speed up the overall execution time of a program."
   ]
  },
  {
   "cell_type": "markdown",
   "metadata": {},
   "source": [
    "Q2. What are the differences between multiprocessing and multithreading?\n",
    "Ans: Multiprocessing:\n",
    "1. Imagine you have multiple workers (like different people) working on separate tasks in parallel.\n",
    "2. Each worker has their own tools and workspace (memory), and they don't interfere with each other.\n",
    "3. Suitable for tasks that need a lot of brainpower (computations), and it works well on computers with multiple \"brains\" (cores).\n",
    "4. Good for tasks like complex calculations or simulations.\n",
    "\n",
    "Multithreading:\n",
    "\n",
    "1. Think of multiple friends sharing a single notebook and taking turns writing in it.\n",
    "2. They work on different parts of the notebook at the same time, but only one can write at any given moment.\n",
    "3. Useful when tasks involve waiting, like reading files or downloading data, as one friend can work while others wait.\n",
    "4. Good for tasks like handling many small I/O operations at once."
   ]
  },
  {
   "cell_type": "markdown",
   "metadata": {},
   "source": [
    "Q3. Write a python code to create a process using the multiprocessing module."
   ]
  },
  {
   "cell_type": "code",
   "execution_count": 1,
   "metadata": {},
   "outputs": [
    {
     "name": "stdout",
     "output_type": "stream",
     "text": [
      "Process has finished.\n"
     ]
    }
   ],
   "source": [
    "import multiprocessing\n",
    "\n",
    "def worker_function(name):\n",
    "    print(f\"Hello, {name}!\")\n",
    "\n",
    "if __name__ == \"__main__\":\n",
    "    # Create a Process object and pass the target function and its arguments\n",
    "    process = multiprocessing.Process(target=worker_function, args=(\"Alice\",))\n",
    "    \n",
    "    # Start the process\n",
    "    process.start()\n",
    "    \n",
    "    # Wait for the process to finish\n",
    "    process.join()\n",
    "    \n",
    "    print(\"Process has finished.\")\n"
   ]
  },
  {
   "cell_type": "markdown",
   "metadata": {},
   "source": [
    "Q4. What is a multiprocessing pool in python? Why is it used?\n",
    "Ans: A multiprocessing pool in Python refers to a collection of worker processes that are managed together and can be used to parallelize and distribute tasks across multiple CPU cores. It's a convenient way to perform parallel processing for a large number of similar tasks without explicitly managing individual processes."
   ]
  },
  {
   "cell_type": "markdown",
   "metadata": {},
   "source": [
    "Q5. How can we create a pool of worker processes in python using the multiprocessing module?\n",
    "Ans: Creating a pool of worker processes in Python using the multiprocessing module is straightforward. You can use the Pool class to create and manage a pool of processes. "
   ]
  },
  {
   "cell_type": "code",
   "execution_count": null,
   "metadata": {},
   "outputs": [],
   "source": [
    "import multiprocessing\n",
    "\n",
    "def worker_function(x):\n",
    "    return x * x\n",
    "\n",
    "if __name__ == \"__main__\":\n",
    "    pool_size = multiprocessing.cpu_count()  # Number of available CPU cores\n",
    "    with multiprocessing.Pool(processes=pool_size) as pool:\n",
    "        input_data = [1, 2, 3, 4, 5]\n",
    "        results = pool.map(worker_function, input_data)\n",
    "    \n",
    "    print(\"Results:\", results)\n"
   ]
  },
  {
   "cell_type": "markdown",
   "metadata": {},
   "source": [
    "Q6. Write a python program to create 4 processes, each process should print a different number using the \n",
    "multiprocessing module in python."
   ]
  },
  {
   "cell_type": "code",
   "execution_count": null,
   "metadata": {},
   "outputs": [],
   "source": [
    "import multiprocessing"
   ]
  },
  {
   "cell_type": "code",
   "execution_count": null,
   "metadata": {},
   "outputs": [],
   "source": [
    "def print_number(number):\n",
    "    print(f\"Process {number}: My number is {number}\")\n",
    "\n",
    "if __name__ == \"__main__\":\n",
    "    processes = []\n",
    "    \n",
    "    for i in range(1, 5):\n",
    "        process = multiprocessing.Process(target=print_number, args=(i,))\n",
    "        processes.append(process)\n",
    "        process.start()\n",
    "    \n",
    "    for process in processes:\n",
    "        process.join()\n",
    "    \n",
    "    print(\"All processes have finished.\")\n"
   ]
  }
 ],
 "metadata": {
  "kernelspec": {
   "display_name": "Python 3",
   "language": "python",
   "name": "python3"
  },
  "language_info": {
   "codemirror_mode": {
    "name": "ipython",
    "version": 3
   },
   "file_extension": ".py",
   "mimetype": "text/x-python",
   "name": "python",
   "nbconvert_exporter": "python",
   "pygments_lexer": "ipython3",
   "version": "3.11.2"
  },
  "orig_nbformat": 4
 },
 "nbformat": 4,
 "nbformat_minor": 2
}
