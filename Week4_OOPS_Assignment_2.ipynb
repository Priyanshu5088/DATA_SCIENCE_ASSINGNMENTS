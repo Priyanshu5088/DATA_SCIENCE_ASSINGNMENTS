{
 "cells": [
  {
   "cell_type": "markdown",
   "metadata": {},
   "source": [
    "Q1. What is Abstraction in OOps? Explain with an example.\n",
    "Ans: Abstraction in python is defined as a process of handling complexity by hiding unnecessary information from the user. This is on of the core concepts of object-oriented programming languages."
   ]
  },
  {
   "cell_type": "code",
   "execution_count": 1,
   "metadata": {},
   "outputs": [],
   "source": [
    "from abc import ABC, abstractclassmethod\n",
    "\n",
    "class class1(ABC):\n",
    "    \n",
    "    @abstractclassmethod\n",
    "    def student(self):\n",
    "        pass"
   ]
  },
  {
   "cell_type": "code",
   "execution_count": 2,
   "metadata": {},
   "outputs": [],
   "source": [
    "class class2(class1):\n",
    "    def student(self):\n",
    "        print(\"Hi , I'm Data Scientist\")"
   ]
  },
  {
   "cell_type": "code",
   "execution_count": 3,
   "metadata": {},
   "outputs": [],
   "source": [
    "class class3(class2):\n",
    "    def student(self):\n",
    "        print(\"Hi, I'm Machine Learning Engineer\")"
   ]
  },
  {
   "cell_type": "code",
   "execution_count": 4,
   "metadata": {},
   "outputs": [
    {
     "name": "stdout",
     "output_type": "stream",
     "text": [
      "Hi, I'm Machine Learning Engineer\n"
     ]
    }
   ],
   "source": [
    "c = class3()\n",
    "c.student()"
   ]
  },
  {
   "cell_type": "markdown",
   "metadata": {},
   "source": [
    "Q2. Differentiate between Abstraction and Encapsulation. Explain with an example.\n",
    "Ans: Abstraction is to hide unwanted data. Abstraction is the outer layout that is used in terms of design.Encapsulation is to hide the code and data into a single unit so that the outside world can't acccess it.Encapsilation is the inner layout used in terms of implementation."
   ]
  },
  {
   "cell_type": "code",
   "execution_count": 5,
   "metadata": {},
   "outputs": [],
   "source": [
    "# Abstraction code\n",
    "from abc import ABC, abstractclassmethod\n",
    "\n",
    "class classes1:\n",
    "    @abstractclassmethod\n",
    "    def coder(self):\n",
    "        pass"
   ]
  },
  {
   "cell_type": "code",
   "execution_count": 6,
   "metadata": {},
   "outputs": [],
   "source": [
    "class classes2(classes1):\n",
    "    def coder(self):\n",
    "        print(\"yes i'm coder\")"
   ]
  },
  {
   "cell_type": "code",
   "execution_count": 7,
   "metadata": {},
   "outputs": [],
   "source": [
    "class classes3(classes2):\n",
    "    def coder(self):\n",
    "        print(\"i'm AI enginer\")"
   ]
  },
  {
   "cell_type": "code",
   "execution_count": 8,
   "metadata": {},
   "outputs": [
    {
     "name": "stdout",
     "output_type": "stream",
     "text": [
      "i'm AI enginer\n"
     ]
    }
   ],
   "source": [
    "c = classes3()\n",
    "c.coder()"
   ]
  },
  {
   "cell_type": "code",
   "execution_count": 9,
   "metadata": {},
   "outputs": [
    {
     "data": {
      "text/plain": [
       "'Python'"
      ]
     },
     "execution_count": 9,
     "metadata": {},
     "output_type": "execute_result"
    }
   ],
   "source": [
    "# Encapsulation\n",
    "class programmer:\n",
    "    def __init__(self, Name, language, Experience):\n",
    "        self.__name = Name\n",
    "        self.__language = language\n",
    "        self.experience = Experience\n",
    "p = programmer(\"semicolon\",\"Python\",2)\n",
    "p._programmer__language"
   ]
  },
  {
   "cell_type": "markdown",
   "metadata": {},
   "source": [
    "Q3. What is abc module in python? Why is it used ?\n",
    "Ans: abc module provides the infrastructure for defining abstract base classes in Python.An abstract base class is therefore useful to describe abstract units of behaviors that can be shared by multiple classes."
   ]
  },
  {
   "cell_type": "markdown",
   "metadata": {},
   "source": [
    "Q4. How can we achieve data abstraction ?\n",
    "Ans: In Python, abstraction can be achieved by having/using abstract classes and methods in our programs. Understanding Abstract Methods and Classes; An abstract method is a method that is declared, but does not contain implementation."
   ]
  },
  {
   "cell_type": "markdown",
   "metadata": {},
   "source": [
    "Q5. Can we create an instance of an abstract class? Explain your answer.\n",
    "Ans: Abstract classes cannot be instantiated,  but they can be subclassed. When an abstract class is subclassed, the subclass usually provides implementations for all of the abstract methods in its parent class. However, if it does not then the subclass must also be declared abstract."
   ]
  }
 ],
 "metadata": {
  "kernelspec": {
   "display_name": "Python 3",
   "language": "python",
   "name": "python3"
  },
  "language_info": {
   "codemirror_mode": {
    "name": "ipython",
    "version": 3
   },
   "file_extension": ".py",
   "mimetype": "text/x-python",
   "name": "python",
   "nbconvert_exporter": "python",
   "pygments_lexer": "ipython3",
   "version": "3.11.2"
  },
  "orig_nbformat": 4
 },
 "nbformat": 4,
 "nbformat_minor": 2
}
