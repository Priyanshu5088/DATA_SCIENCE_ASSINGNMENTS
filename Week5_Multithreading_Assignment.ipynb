{
 "cells": [
  {
   "cell_type": "markdown",
   "metadata": {},
   "source": [
    "Q1. What is multithreading in python? Why is it used? Name the module used to handle threads in python.\n",
    "Ans: Multithreading refers to concurrently executing multiple threads by rapidly switching the control of the CPU between threads.Multithreading used in python because enables efficient utilization of the resources as the threads share the data space and memory. The threading\n",
    "module in a high-level implementation of multitheading used to deploy an application in Python."
   ]
  },
  {
   "cell_type": "markdown",
   "metadata": {},
   "source": [
    "Q2. Why threading module used? Write the use of the following functions:\n",
    "1. activeCount()\n",
    "2. currentThread()\n",
    "3. enumerate()\n",
    "\n",
    "Ans: The newer threading module included with Python2.4 provides much more powerful, high-level \n",
    "support for threads.\n",
    "1. activeCount() -> used to count the currently active or running threads.\n",
    "2. currentThread() -> used to return the current Thread object, which corresponds to the \n",
    "caller's thread of control.\n",
    "3. enumerate() -> used to adds a counter to an iterable and returns it."
   ]
  },
  {
   "cell_type": "markdown",
   "metadata": {},
   "source": [
    "Q3. Explain the following functions:\n",
    "1. run ()\n",
    "2. start()\n",
    "3. join()\n",
    "4. isAlive()\n",
    "\n",
    "Ans: 1.run() = The run() method executes any target function belonging to a given thread object\n",
    "that is now active.\n",
    "2. start() = Starts a python thread. A thread is started after some fractional delta time, as \n",
    "the thread needs to be initialized before it is executed in the operating system context.\n",
    "3. join() = The join() method takes all items in an iterable and joins them into one string. \n",
    "A string must be specified as the separator.\n",
    "4. isAlive() = The isAlive() method returns True if the thread is still running and False, \n",
    "otherwise."
   ]
  },
  {
   "cell_type": "markdown",
   "metadata": {},
   "source": [
    "Q4.  Write a python program to create two threads. Thread one must print the list of squares and thread \n",
    "two must print the list of cubes."
   ]
  },
  {
   "cell_type": "code",
   "execution_count": 1,
   "metadata": {},
   "outputs": [
    {
     "name": "stdout",
     "output_type": "stream",
     "text": [
      "List of squares: [1, 4, 9, 16, 25, 36, 49, 64, 81, 100]\n",
      "List of cubes: [1, 8, 27, 64, 125, 216, 343, 512, 729, 1000]\n",
      "Both threads have finished.\n"
     ]
    }
   ],
   "source": [
    "import threading\n",
    "\n",
    "def print_squares():\n",
    "    squares = [x ** 2 for x in range(1, 11)]\n",
    "    print(\"List of squares:\", squares)\n",
    "\n",
    "def print_cubes():\n",
    "    cubes = [x ** 3 for x in range(1, 11)]\n",
    "    print(\"List of cubes:\", cubes)\n",
    "\n",
    "if __name__ == \"__main__\":\n",
    "    thread1 = threading.Thread(target=print_squares)\n",
    "    thread2 = threading.Thread(target=print_cubes)\n",
    "\n",
    "    thread1.start()\n",
    "    thread2.start()\n",
    "\n",
    "    thread1.join()\n",
    "    thread2.join()\n",
    "\n",
    "    print(\"Both threads have finished.\")\n"
   ]
  },
  {
   "cell_type": "markdown",
   "metadata": {},
   "source": [
    "Q5. State advantages and disadvantages of mulithreading\n",
    "Ans- Multithreading in Python streamlines the efficient utilization of resources as the threads \n",
    "    share the same memoru and data space.With more thread, the code becomes difficult to debug \n",
    "    and maintain."
   ]
  },
  {
   "cell_type": "markdown",
   "metadata": {},
   "source": [
    "Q6. Explain deadlocks and race conditons.\n",
    "Ans- Both share some similarities, such as they both occur in multithread solutions and hamper \n",
    "device performance. However, both are not the same. A race condition occurs when two threads use \n",
    "the same variable at a given time. Deadlock exists when two threads seek one lock simultaneously."
   ]
  }
 ],
 "metadata": {
  "kernelspec": {
   "display_name": "Python 3",
   "language": "python",
   "name": "python3"
  },
  "language_info": {
   "codemirror_mode": {
    "name": "ipython",
    "version": 3
   },
   "file_extension": ".py",
   "mimetype": "text/x-python",
   "name": "python",
   "nbconvert_exporter": "python",
   "pygments_lexer": "ipython3",
   "version": "3.11.2"
  },
  "orig_nbformat": 4
 },
 "nbformat": 4,
 "nbformat_minor": 2
}
